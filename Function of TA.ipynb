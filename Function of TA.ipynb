{
 "cells": [
  {
   "cell_type": "code",
   "execution_count": null,
   "metadata": {},
   "outputs": [],
   "source": [
    "pre1 = input(\"Enter value for first note of preceding chord: \")\n",
    "pre2 = input(\"Enter value for second note of preceding chord: \")\n",
    "pre3 = input(\"Enter value for third note of preceding chord: \")\n",
    "\n",
    "suc1 = input(\"Enter value for first note of succeeding chord: \")\n",
    "suc2 = input(\"Enter value for second note of succeeding chord: \")\n",
    "suc3 = input(\"Enter value for third note of succeeding chord: \")\n",
    "\n",
    "pree= numpy.array([pre1,pre2,pre3])\n",
    "suce= numpy.array([suc1,suc2,suc3])\n",
    "\n",
    "pre=pree.astype(int)\n",
    "suc=suce.astype(int)\n",
    "\n",
    "def ta(pre,suc): \n",
    "    return pre*suc\n",
    "\n",
    "print(ta(pre,suc))"
   ]
  },
  {
   "cell_type": "code",
   "execution_count": null,
   "metadata": {},
   "outputs": [],
   "source": []
  },
  {
   "cell_type": "code",
   "execution_count": null,
   "metadata": {},
   "outputs": [],
   "source": []
  }
 ],
 "metadata": {
  "kernelspec": {
   "display_name": "Python 3",
   "language": "python",
   "name": "python3"
  },
  "language_info": {
   "codemirror_mode": {
    "name": "ipython",
    "version": 3
   },
   "file_extension": ".py",
   "mimetype": "text/x-python",
   "name": "python",
   "nbconvert_exporter": "python",
   "pygments_lexer": "ipython3",
   "version": "3.7.4"
  }
 },
 "nbformat": 4,
 "nbformat_minor": 2
}
